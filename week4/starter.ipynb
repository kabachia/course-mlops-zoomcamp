{
 "cells": [
  {
   "cell_type": "code",
   "execution_count": 1,
   "id": "8cc06e64",
   "metadata": {},
   "outputs": [
    {
     "name": "stdout",
     "output_type": "stream",
     "text": [
      "scikit-learn==1.1.1\r\n"
     ]
    }
   ],
   "source": [
    "!pip freeze | grep scikit-learn"
   ]
  },
  {
   "cell_type": "code",
   "execution_count": 2,
   "id": "d1f7ceb5",
   "metadata": {},
   "outputs": [],
   "source": [
    "import pickle\n",
    "import pandas as pd"
   ]
  },
  {
   "cell_type": "code",
   "execution_count": 3,
   "id": "5a375ccb",
   "metadata": {},
   "outputs": [
    {
     "name": "stderr",
     "output_type": "stream",
     "text": [
      "/home/kabachia/anaconda3/envs/exp-tracking-env/lib/python3.9/site-packages/sklearn/base.py:329: UserWarning: Trying to unpickle estimator DictVectorizer from version 1.0.2 when using version 1.1.1. This might lead to breaking code or invalid results. Use at your own risk. For more info please refer to:\n",
      "https://scikit-learn.org/stable/model_persistence.html#security-maintainability-limitations\n",
      "  warnings.warn(\n",
      "/home/kabachia/anaconda3/envs/exp-tracking-env/lib/python3.9/site-packages/sklearn/base.py:329: UserWarning: Trying to unpickle estimator LinearRegression from version 1.0.2 when using version 1.1.1. This might lead to breaking code or invalid results. Use at your own risk. For more info please refer to:\n",
      "https://scikit-learn.org/stable/model_persistence.html#security-maintainability-limitations\n",
      "  warnings.warn(\n"
     ]
    }
   ],
   "source": [
    "with open('model.bin', 'rb') as f_in:\n",
    "    dv, lr = pickle.load(f_in)"
   ]
  },
  {
   "cell_type": "code",
   "execution_count": 4,
   "id": "93db63da",
   "metadata": {},
   "outputs": [],
   "source": [
    "categorical = ['PUlocationID', 'DOlocationID']\n",
    "\n",
    "def read_data(filename):\n",
    "    df = pd.read_parquet(filename)\n",
    "    \n",
    "    df['duration'] = df.dropOff_datetime - df.pickup_datetime\n",
    "    df['duration'] = df.duration.dt.total_seconds() / 60\n",
    "\n",
    "    df = df[(df.duration >= 1) & (df.duration <= 60)].copy()\n",
    "\n",
    "    df[categorical] = df[categorical].fillna(-1).astype('int').astype('str')\n",
    "    \n",
    "    return df"
   ]
  },
  {
   "cell_type": "code",
   "execution_count": 5,
   "id": "36e89dca",
   "metadata": {},
   "outputs": [],
   "source": [
    "year = 2021\n",
    "month = 2"
   ]
  },
  {
   "cell_type": "code",
   "execution_count": 7,
   "id": "6d5eb27f",
   "metadata": {},
   "outputs": [],
   "source": [
    "df = read_data(f'https://nyc-tlc.s3.amazonaws.com/trip+data/fhv_tripdata_{year:04d}-{month:02d}.parquet')"
   ]
  },
  {
   "cell_type": "code",
   "execution_count": 8,
   "id": "a26e7926",
   "metadata": {},
   "outputs": [
    {
     "data": {
      "text/plain": [
       "Index(['dispatching_base_num', 'pickup_datetime', 'dropOff_datetime',\n",
       "       'PUlocationID', 'DOlocationID', 'SR_Flag', 'Affiliated_base_number',\n",
       "       'duration'],\n",
       "      dtype='object')"
      ]
     },
     "execution_count": 8,
     "metadata": {},
     "output_type": "execute_result"
    }
   ],
   "source": [
    "df.columns"
   ]
  },
  {
   "cell_type": "code",
   "execution_count": 9,
   "id": "e37fbba5",
   "metadata": {},
   "outputs": [],
   "source": [
    "dicts = df[categorical].to_dict(orient='records')\n",
    "X_val = dv.transform(dicts)\n",
    "y_pred = lr.predict(X_val)"
   ]
  },
  {
   "cell_type": "code",
   "execution_count": 10,
   "id": "1a3d0f24",
   "metadata": {},
   "outputs": [],
   "source": [
    "df['prediction'] = y_pred"
   ]
  },
  {
   "cell_type": "code",
   "execution_count": 11,
   "id": "53e0e22c",
   "metadata": {},
   "outputs": [
    {
     "data": {
      "text/plain": [
       "16.191691679979066"
      ]
     },
     "execution_count": 11,
     "metadata": {},
     "output_type": "execute_result"
    }
   ],
   "source": [
    "df['prediction'].mean()"
   ]
  },
  {
   "cell_type": "code",
   "execution_count": 12,
   "id": "ad563f1a",
   "metadata": {
    "scrolled": true
   },
   "outputs": [],
   "source": [
    "df['ride_id'] = df['ride_id'] = f'{year:04d}/{month:02d}_' + df.index.astype('str')"
   ]
  },
  {
   "cell_type": "code",
   "execution_count": 14,
   "id": "90a23f2b",
   "metadata": {},
   "outputs": [
    {
     "data": {
      "text/html": [
       "<div>\n",
       "<style scoped>\n",
       "    .dataframe tbody tr th:only-of-type {\n",
       "        vertical-align: middle;\n",
       "    }\n",
       "\n",
       "    .dataframe tbody tr th {\n",
       "        vertical-align: top;\n",
       "    }\n",
       "\n",
       "    .dataframe thead th {\n",
       "        text-align: right;\n",
       "    }\n",
       "</style>\n",
       "<table border=\"1\" class=\"dataframe\">\n",
       "  <thead>\n",
       "    <tr style=\"text-align: right;\">\n",
       "      <th></th>\n",
       "      <th>dispatching_base_num</th>\n",
       "      <th>pickup_datetime</th>\n",
       "      <th>dropOff_datetime</th>\n",
       "      <th>PUlocationID</th>\n",
       "      <th>DOlocationID</th>\n",
       "      <th>SR_Flag</th>\n",
       "      <th>Affiliated_base_number</th>\n",
       "      <th>duration</th>\n",
       "      <th>prediction</th>\n",
       "      <th>ride_id</th>\n",
       "    </tr>\n",
       "  </thead>\n",
       "  <tbody>\n",
       "    <tr>\n",
       "      <th>1</th>\n",
       "      <td>B00021</td>\n",
       "      <td>2021-02-01 00:55:40</td>\n",
       "      <td>2021-02-01 01:06:20</td>\n",
       "      <td>173</td>\n",
       "      <td>82</td>\n",
       "      <td>NaN</td>\n",
       "      <td>B00021</td>\n",
       "      <td>10.666667</td>\n",
       "      <td>14.539865</td>\n",
       "      <td>2021/02_1</td>\n",
       "    </tr>\n",
       "    <tr>\n",
       "      <th>2</th>\n",
       "      <td>B00021</td>\n",
       "      <td>2021-02-01 00:14:03</td>\n",
       "      <td>2021-02-01 00:28:37</td>\n",
       "      <td>173</td>\n",
       "      <td>56</td>\n",
       "      <td>NaN</td>\n",
       "      <td>B00021</td>\n",
       "      <td>14.566667</td>\n",
       "      <td>13.740422</td>\n",
       "      <td>2021/02_2</td>\n",
       "    </tr>\n",
       "    <tr>\n",
       "      <th>3</th>\n",
       "      <td>B00021</td>\n",
       "      <td>2021-02-01 00:27:48</td>\n",
       "      <td>2021-02-01 00:35:45</td>\n",
       "      <td>82</td>\n",
       "      <td>129</td>\n",
       "      <td>NaN</td>\n",
       "      <td>B00021</td>\n",
       "      <td>7.950000</td>\n",
       "      <td>15.593339</td>\n",
       "      <td>2021/02_3</td>\n",
       "    </tr>\n",
       "    <tr>\n",
       "      <th>4</th>\n",
       "      <td>B00037</td>\n",
       "      <td>2021-02-01 00:12:50</td>\n",
       "      <td>2021-02-01 00:26:38</td>\n",
       "      <td>-1</td>\n",
       "      <td>225</td>\n",
       "      <td>NaN</td>\n",
       "      <td>B00037</td>\n",
       "      <td>13.800000</td>\n",
       "      <td>15.188118</td>\n",
       "      <td>2021/02_4</td>\n",
       "    </tr>\n",
       "    <tr>\n",
       "      <th>5</th>\n",
       "      <td>B00037</td>\n",
       "      <td>2021-02-01 00:00:37</td>\n",
       "      <td>2021-02-01 00:09:35</td>\n",
       "      <td>-1</td>\n",
       "      <td>61</td>\n",
       "      <td>NaN</td>\n",
       "      <td>B00037</td>\n",
       "      <td>8.966667</td>\n",
       "      <td>13.817206</td>\n",
       "      <td>2021/02_5</td>\n",
       "    </tr>\n",
       "  </tbody>\n",
       "</table>\n",
       "</div>"
      ],
      "text/plain": [
       "  dispatching_base_num     pickup_datetime    dropOff_datetime PUlocationID  \\\n",
       "1      B00021          2021-02-01 00:55:40 2021-02-01 01:06:20          173   \n",
       "2      B00021          2021-02-01 00:14:03 2021-02-01 00:28:37          173   \n",
       "3      B00021          2021-02-01 00:27:48 2021-02-01 00:35:45           82   \n",
       "4               B00037 2021-02-01 00:12:50 2021-02-01 00:26:38           -1   \n",
       "5               B00037 2021-02-01 00:00:37 2021-02-01 00:09:35           -1   \n",
       "\n",
       "  DOlocationID  SR_Flag Affiliated_base_number   duration  prediction  \\\n",
       "1           82      NaN        B00021           10.666667   14.539865   \n",
       "2           56      NaN        B00021           14.566667   13.740422   \n",
       "3          129      NaN        B00021            7.950000   15.593339   \n",
       "4          225      NaN                 B00037  13.800000   15.188118   \n",
       "5           61      NaN                 B00037   8.966667   13.817206   \n",
       "\n",
       "     ride_id  \n",
       "1  2021/02_1  \n",
       "2  2021/02_2  \n",
       "3  2021/02_3  \n",
       "4  2021/02_4  \n",
       "5  2021/02_5  "
      ]
     },
     "execution_count": 14,
     "metadata": {},
     "output_type": "execute_result"
    }
   ],
   "source": [
    "df.head()"
   ]
  },
  {
   "cell_type": "code",
   "execution_count": 16,
   "id": "8fbcaabf",
   "metadata": {},
   "outputs": [],
   "source": [
    "df_result = pd.DataFrame()"
   ]
  },
  {
   "cell_type": "code",
   "execution_count": 17,
   "id": "3533ec60",
   "metadata": {},
   "outputs": [],
   "source": [
    "df_result['ride_id'] = df['ride_id']\n",
    "df_result['prediction'] = df['prediction']"
   ]
  },
  {
   "cell_type": "code",
   "execution_count": 18,
   "id": "0004650b",
   "metadata": {},
   "outputs": [],
   "source": [
    "!mkdir output"
   ]
  },
  {
   "cell_type": "code",
   "execution_count": 19,
   "id": "449e1696",
   "metadata": {},
   "outputs": [],
   "source": [
    "output_file = f'output/fhv_tripdata_{year:04d}-{month:02d}.parquet'"
   ]
  },
  {
   "cell_type": "code",
   "execution_count": 21,
   "id": "cb36fcff",
   "metadata": {},
   "outputs": [],
   "source": [
    "df_result.to_parquet(\n",
    "    output_file,\n",
    "    engine='pyarrow',\n",
    "    compression=None,\n",
    "    index=False\n",
    ")"
   ]
  },
  {
   "cell_type": "code",
   "execution_count": 24,
   "id": "15fc0873",
   "metadata": {},
   "outputs": [
    {
     "name": "stdout",
     "output_type": "stream",
     "text": [
      "19M\toutput/fhv_tripdata_2021-02.parquet\r\n",
      "19M\toutput/\r\n"
     ]
    }
   ],
   "source": [
    "!du -ah output/"
   ]
  },
  {
   "cell_type": "code",
   "execution_count": null,
   "id": "b62444b1",
   "metadata": {},
   "outputs": [],
   "source": []
  }
 ],
 "metadata": {
  "kernelspec": {
   "display_name": "Python 3 (ipykernel)",
   "language": "python",
   "name": "python3"
  },
  "language_info": {
   "codemirror_mode": {
    "name": "ipython",
    "version": 3
   },
   "file_extension": ".py",
   "mimetype": "text/x-python",
   "name": "python",
   "nbconvert_exporter": "python",
   "pygments_lexer": "ipython3",
   "version": "3.9.12"
  }
 },
 "nbformat": 4,
 "nbformat_minor": 5
}
